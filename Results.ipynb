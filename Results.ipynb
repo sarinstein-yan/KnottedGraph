{
 "cells": [
  {
   "cell_type": "markdown",
   "metadata": {},
   "source": [
    "### 🔧 To-Do List\n",
    "\n",
    "1. **Petersen Minor Graph Family**\n",
    "   - [ ] Add all other graphs in the Petersen minor family.\n",
    "   - [ ] Implement via [SageMath](https://www.sagemath.org/) if possible; otherwise, enter manually.\n",
    "\n",
    "2. **Intrinsically Knotted (IK) Graph Example**\n",
    "   - [ ] Find an IK example that contains $ K_6 $ or $ K_7 $.\n",
    "   - 📌 *Note:* Intrinsic knotting is a minor-closed property (Conway–Foisy theorem).\n",
    "\n",
    "3. **Intrinsically $ n $-Linked Example (for $ n \\geq 3 $)**\n",
    "   - [ ] Search for or construct a graph that demonstrates intrinsic $ n $-linkedness.\n",
    "\n",
    "4. **Library of `zw_to_c_hopf`-Like Examples**\n",
    "   - [ ] Collect and organize all known examples (e.g., $ (p,q) $-torus knots).\n",
    "   - [ ] Store them in a `.py` file for easy import and use.\n",
    "   \n",
    "5. **Algorithmic Cleanliness Improvements**\n",
    "   - [ ] Refactor the code to avoid repeated arguments: `thickness=0.2` and `epsilon=0.001` currently appear in both `.knot_surface_points` and `.skeleton_graph` functions.\n",
    "   - [ ] Instead, pass these parameters once through the `NodalKnot` class to improve modularity and reduce redundancy.\n",
    "   \n",
    "6. **Surface Point Detection Improvements (Sparsity Issue)**\n",
    "   - [ ] Improve surface point detection for complex knotting functions. Currently, the detected points can appear sparse, leading to incomplete or inaccurate surface representation.\n",
    "   \n",
    "7. **Avoid Redundant Computations in `NodalKnot.py` + Generally improve organization**\n",
    "   - [ ] Investigate potential redundancy in the code—e.g., the `knot_skeleton()` function appears to recompute data that is later required by `skeleton_graph()` but doesn’t save it for reuse. (also knot_skeleton_points() uses thickness again as well)\n",
    "   - [ ] If similar patterns exist elsewhere, consider caching intermediate results as class attributes to avoid unnecessary recomputation.\n",
    "   - 💡 *Note:* I haven’t yet reviewed this in detail, but it’s worth checking for efficiency improvements.\n",
    "   - [ ] Maybe organization can be improved in general as well(but i am not sure how yet)\n",
    "\n",
    "8. **Check the latest yamada calculation**\n",
    "   - [ ] I have checked it from multiple aspects(checking well-known examples+doing the calculation by hand for one complex knotted graph) but please you check it as well to ensure everything is correct\n",
    "   - [ ] Although the Yamada calculation is largely automated, we still need to manually specify the angle to obtain the correct PD code.  \n",
    "      I attempted to address this with the `find_best_view()` function, but it only works reliably in some cases.  \n",
    "      While this level of functionality is sufficient for our physics project, it may be worth improving for broader dataset applications.\n",
    "\n",
    "9. **Check whether the idea on \"Thickening in Non-Hermitian Nodal Knots\" can be realized in our code-with a similar figure to fig:TrefoilThickening**\n",
    "\n",
    "10. **Find examples for the following 2 sections:**\n",
    "   - [ ] Codim-1 Exceptional surfaces in 3D BZ for higher dimensional knots\n",
    "   - [ ] Codim-N Exceptional surfaces in $M\\>3$ BZ for higher dimensional knots\n",
    "\n",
    "11. **Toposurface states:**\n",
    "- [ ] What should we display is still a question\n",
    "\n",
    "12. **Improve figure colorings according to prof.lee's latest suggestion**\n",
    "13. **Write the draft for Skeletonization section in the paper**"
   ]
  },
  {
   "cell_type": "markdown",
   "metadata": {},
   "source": [
    "# Exceptional Knots/Surfaces/Knotted Graphs"
   ]
  },
  {
   "cell_type": "code",
   "execution_count": null,
   "metadata": {},
   "outputs": [],
   "source": [
    "import math\n",
    "import numpy as np\n",
    "import networkx as nx\n",
    "import plotly.graph_objects as go\n",
    "import matplotlib.pyplot as plt \n",
    "import matplotlib.gridspec as gridspec\n",
    "from matplotlib.patches import Rectangle\n",
    "import matplotlib.patches as patches\n",
    "import os\n",
    "\n",
    "try:\n",
    "    import knotted_graph\n",
    "except:\n",
    "    ! pip install -e .\n",
    "from knotted_graph import NodalKnot\n",
    "from knotted_graph.yamada import optimized_yamada\n",
    "from knotted_graph.pd_codes import find_best_view, PlanarDiagram_Codes\n",
    "from knotted_graph.vis import draw_petersen_embedding\n",
    "\n",
    "\n",
    "def k_to_zw(kx, ky, kz):\n",
    "    \"\"\" F: 3D Brillouin zone -> C^2 \"\"\"\n",
    "\n",
    "    z_real = np.cos(2*kz) + 0.5\n",
    "    z_imag = np.cos(kx) + np.cos(ky) + np.cos(kz) - 2.0\n",
    "    z = z_real + 1j*z_imag\n",
    "    \n",
    "    w_real = np.sin(kx)\n",
    "    w_imag = np.sin(ky)\n",
    "    w = w_real + 1j*w_imag\n",
    "\n",
    "    return z, w\n",
    "def zw_to_c_hopf(z, w):\n",
    "    \"\"\" f: C^2 -> C (Hopf Link) \"\"\"\n",
    "    return np.power(z, 2) - np.power(w, 2)\n",
    "\n",
    "def zw_to_c_trefoil(z, w):\n",
    "    \"\"\" f: C^2 -> C (Trefoil Knot) \"\"\"\n",
    "    return np.power(z, 2) - np.power(w, 3)\n",
    "\n",
    "def zw_to_c_3link(z, w):\n",
    "    \"\"\" f: C^2 -> C (Figure-8 Knot) \"\"\"\n",
    "    return np.power(z, 3) - np.power(w, 2)*z\n",
    "\n",
    "hopf = NodalKnot(k_to_zw, zw_to_c_hopf)\n",
    "trefoil = NodalKnot(k_to_zw, zw_to_c_trefoil)\n",
    "threelink = NodalKnot(k_to_zw, zw_to_c_3link)\n",
    "\n",
    "trefoil_surface = trefoil.knot_surface_points(thickness=0.2, epsilon=0.001)\n",
    "trefoil_surf_fig = trefoil.plot_3D(trefoil_surface)\n",
    "trefoil_surf_fig.show()\n",
    "trefoil_graph = trefoil.skeleton_graph(clean=True, thickness=0.2)\n",
    "trefoil_graph_fig = threelink.plot_graph(trefoil_graph)\n",
    "trefoil_graph_fig.show()"
   ]
  },
  {
   "cell_type": "code",
   "execution_count": null,
   "metadata": {},
   "outputs": [],
   "source": [
    "# 3-link Example\n",
    "threelink_surface = threelink.knot_surface_points(thickness=0.05, epsilon=0.001)\n",
    "threelink_surf_fig = threelink.plot_3D(threelink_surface)\n",
    "threelink_surf_fig.show()\n",
    "\n",
    "threelink_graph = threelink.skeleton_graph(clean=True, thickness=0.05)\n",
    "threelink_graph_fig = threelink.plot_graph(threelink_graph)\n",
    "threelink_graph_fig.show()"
   ]
  },
  {
   "cell_type": "code",
   "execution_count": null,
   "metadata": {},
   "outputs": [],
   "source": [
    "# Arbitrary Example\n",
    "def arbitrary_knotting_func(z, w):\n",
    "    return (z**2+w**2)+(z**3-w**4)\n",
    "k=np.pi\n",
    "X = NodalKnot(k_to_zw, arbitrary_knotting_func,\n",
    "              kx_min=-k, kx_max=k,\n",
    "              ky_min=-k, ky_max=k,\n",
    "              kz_min=0, kz_max=k,pts_per_dim=400)\n",
    "\n",
    "X_surface = X.knot_surface_points(thickness=0.6, epsilon=0.001)\n",
    "X_surf_fig = X.plot_3D(X_surface)\n",
    "X_surf_fig.show()\n",
    "\n",
    "X_points = X.knot_skeleton_points() \n",
    "X_graph = X.skeleton_graph(clean=True, thickness=0.6)\n",
    "X_graph_fig = X.plot_graph(X_graph)\n",
    "X_graph_fig.show()"
   ]
  },
  {
   "cell_type": "markdown",
   "metadata": {},
   "source": [
    "#### Intrinsically Linked - Petersen Graph Minor Example"
   ]
  },
  {
   "cell_type": "code",
   "execution_count": null,
   "metadata": {},
   "outputs": [],
   "source": [
    "def arbitrary_func(z, w):\n",
    "    \"\"\" f: C^2 -> C (Figure-8 Knot) \"\"\"   \n",
    "    return  z*(z**2-w**4+w)\n",
    " \n",
    "k=0.9*np.pi\n",
    "X = NodalKnot(k_to_zw, arbitrary_func,\n",
    "              kx_min=-k, kx_max=k,\n",
    "              ky_min=-k, ky_max=k,\n",
    "              kz_min=0, kz_max=k,pts_per_dim=600)\n",
    "X_surface = X.knot_surface_points(thickness=0.2, epsilon=0.001)\n",
    "\n",
    "\n",
    "X_points = X.knot_skeleton_points()\n",
    "X_fig = trefoil.plot_3D(X_points)\n",
    "X_fig.show()\n",
    "\n",
    "\n",
    "X_surf_fig = X.plot_3D(X_surface)\n",
    "X_surf_fig.show()\n",
    "\n",
    "\n",
    "X_graph = X.skeleton_graph(clean=True, thickness=0.2)\n",
    "X_graph_fig = X.plot_graph(X_graph)\n",
    "X_graph_fig.show()\n",
    "\n",
    "\n",
    "# Generate positions using the shell layout.\n",
    "pos = nx.shell_layout(X_graph)\n",
    "plt.figure(figsize=(4, 4))\n",
    "nx.draw(X_graph, pos, with_labels=True,\n",
    "        node_color='white', edgecolors='black',  # white fill, black border for nodes\n",
    "        edge_color='black', node_size=500) \n",
    "plt.show()\n",
    "\n",
    "\n",
    "X.print_graph_properties(X_graph)\n",
    "\n",
    "petersen_graph= nx.petersen_graph() ### Try to add whole petersen family of graphs to create a function Is_Intrinsically_Linked\n",
    "Embedding=X.check_minor(host_graph=X_graph,minor_graph=petersen_graph)\n",
    "\n",
    " \n",
    "fig, ax = draw_petersen_embedding(petersen_graph, Embedding)\n",
    "plt.show() "
   ]
  },
  {
   "cell_type": "markdown",
   "metadata": {},
   "source": [
    "#### Ways Of Introducing Non-Hermitian Thickening "
   ]
  },
  {
   "cell_type": "code",
   "execution_count": null,
   "metadata": {},
   "outputs": [],
   "source": [
    "\n",
    "# pick a single thickness\n",
    "th = -0.5\n",
    "\n",
    "# compute the three surfaces\n",
    "surf1 = threelink.knot_surface_points(thickness=[th, 0, 0], epsilon=0.01)\n",
    "surf2 = threelink.knot_surface_points(thickness=[0, th, 0], epsilon=0.01)\n",
    "surf3 = threelink.knot_surface_points(thickness=[0, 0, th], epsilon=0.01)\n",
    "\n",
    "# set up figure with 3 side-by-side 3D plots\n",
    "fig = plt.figure(figsize=(15, 5))\n",
    "for i, surf in enumerate((surf1, surf2, surf3), start=1):\n",
    "    ax = fig.add_subplot(1, 3, i, projection='3d')\n",
    "    ax.scatter(surf[:,0], surf[:,1], surf[:,2],\n",
    "               c='blue', s=10, alpha=0.7, rasterized=True)\n",
    "    ax.set_xticks([]); ax.set_yticks([]); ax.set_zticks([])\n",
    "    ax.set_title([r'$c$', r'$c\\,\\mathrm{Re}[f(\\mathbf{k})]$', r'$c\\,\\mathrm{Im}[f(\\mathbf{k})]$'][i-1],\n",
    "                 fontsize=16)\n",
    "    ax.view_init(elev=30, azim=45)\n",
    "\n",
    "plt.tight_layout()\n",
    "plt.show()"
   ]
  },
  {
   "cell_type": "markdown",
   "metadata": {},
   "source": [
    "# Yamada Polynomial"
   ]
  },
  {
   "cell_type": "code",
   "execution_count": null,
   "metadata": {},
   "outputs": [],
   "source": [
    "def arbitrary_func(z, w):\n",
    "    \"\"\" f: C^2 -> C (Figure-8 Knot) \"\"\"   \n",
    "    return  z*(z**2-w**4+w)\n",
    " \n",
    "k=0.9*np.pi\n",
    "X = NodalKnot(k_to_zw, arbitrary_func,\n",
    "              kx_min=-k, kx_max=k,\n",
    "              ky_min=-k, ky_max=k,\n",
    "              kz_min=0, kz_max=k,pts_per_dim=600)\n",
    "graph = X.skeleton_graph(clean=True, thickness=0.6)\n",
    "graphfig = threelink.plot_graph(graph)\n",
    "graphfig.show()"
   ]
  },
  {
   "cell_type": "markdown",
   "metadata": {},
   "source": [
    "##### Note: The function below(find_best_vies) works in some cases but may fail in others(in such cases manual angle should be given).\n"
   ]
  },
  {
   "cell_type": "code",
   "execution_count": null,
   "metadata": {},
   "outputs": [],
   "source": [
    "best_view= find_best_view(graph,\n",
    "    max_pts=20,\n",
    "    init_view=(0, 30),\n",
    "    T0=10000,\n",
    "    Tmin=0.5,\n",
    "    alpha=0.8,\n",
    "    steps=50,\n",
    "    tol=3.0,\n",
    "    cross_penal_factor=4,\n",
    "    cross_penal_dist=5.0,\n",
    "    cross_dist_penal_factor=155,\n",
    "    node_penal_dist=5.0,\n",
    "    node_penal_factor=15,\n",
    ")### Start from 5 diff point and optimize in parallel"
   ]
  },
  {
   "cell_type": "code",
   "execution_count": null,
   "metadata": {},
   "outputs": [],
   "source": [
    "# Generate planar diagram parts\n",
    "V_parts, X_parts,meet = PlanarDiagram_Codes(graph, view=(0,40),crossing_tol=5) # can enter view=best_view\n",
    "# Combine into PD code\n",
    "pd_code = \";\".join(V_parts + X_parts)"
   ]
  },
  {
   "cell_type": "code",
   "execution_count": null,
   "metadata": {},
   "outputs": [],
   "source": [
    "optimized_yamada(pd_code)"
   ]
  },
  {
   "cell_type": "code",
   "execution_count": null,
   "metadata": {},
   "outputs": [],
   "source": []
  }
 ],
 "metadata": {
  "kernelspec": {
   "display_name": "knot",
   "language": "python",
   "name": "python3"
  },
  "language_info": {
   "codemirror_mode": {
    "name": "ipython",
    "version": 3
   },
   "file_extension": ".py",
   "mimetype": "text/x-python",
   "name": "python",
   "nbconvert_exporter": "python",
   "pygments_lexer": "ipython3",
   "version": "3.12.11"
  }
 },
 "nbformat": 4,
 "nbformat_minor": 2
}
