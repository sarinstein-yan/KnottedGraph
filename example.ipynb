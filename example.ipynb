{
 "cells": [
  {
   "cell_type": "code",
   "execution_count": 2,
   "metadata": {},
   "outputs": [],
   "source": [
    "import math\n",
    "import numpy as np\n",
    "import networkx as nx\n",
    "import minorminer\n",
    "\n",
    "import plotly.graph_objects as go\n",
    "import matplotlib.pyplot as plt \n",
    "import matplotlib.patches as patches\n",
    "\n",
    "# !pip install -e .\n",
    "import os\n",
    "os.chdir(\"./src\")\n",
    "from nodal_knot import NodalKnot\n",
    "os.chdir(\"..\")"
   ]
  },
  {
   "cell_type": "code",
   "execution_count": 3,
   "metadata": {},
   "outputs": [],
   "source": [
    "def k_to_zw(kx, ky, kz):\n",
    "    \"\"\" F: 3D Brillouin zone -> C^2 \"\"\"\n",
    "\n",
    "    z_real = np.cos(2*kz) + 0.5\n",
    "    z_imag = np.cos(kx) + np.cos(ky) + np.cos(kz) - 2.0\n",
    "    z = z_real + 1j*z_imag\n",
    "    \n",
    "    w_real = np.sin(kx)\n",
    "    w_imag = np.sin(ky)\n",
    "    w = w_real + 1j*w_imag\n",
    "\n",
    "    return z, w\n",
    "\n",
    "def zw_to_c_hopf(z, w):\n",
    "    \"\"\" f: C^2 -> C (Hopf Link) \"\"\"\n",
    "    return np.power(z, 2) - np.power(w, 2)\n",
    "\n",
    "def zw_to_c_trefoil(z, w):\n",
    "    \"\"\" f: C^2 -> C (Trefoil Knot) \"\"\"\n",
    "    return np.power(z, 2) - np.power(w, 3)\n",
    "\n",
    "def zw_to_c_3link(z, w):\n",
    "    \"\"\" f: C^2 -> C (Figure-8 Knot) \"\"\"\n",
    "    return np.power(z, 3) - np.power(w, 2)*z\n",
    "\n",
    "hopf = NodalKnot(k_to_zw, zw_to_c_hopf)\n",
    "trefoil = NodalKnot(k_to_zw, zw_to_c_trefoil)\n",
    "threelink = NodalKnot(k_to_zw, zw_to_c_3link)"
   ]
  },
  {
   "cell_type": "markdown",
   "metadata": {},
   "source": [
    "## Thickened Knot"
   ]
  },
  {
   "cell_type": "code",
   "execution_count": null,
   "metadata": {},
   "outputs": [],
   "source": [
    "trefoil_surface = trefoil.knot_surface_points(thickness=0.2, epsilon=0.001)\n",
    "trefoil_surf_fig = trefoil.plot_3D(trefoil_surface,\n",
    "                            file_name=\"./assets/trefoil_tube.html\"\n",
    "                        )\n",
    "trefoil_surf_fig.show()"
   ]
  },
  {
   "cell_type": "markdown",
   "metadata": {},
   "source": [
    "# Knotted Graph"
   ]
  },
  {
   "cell_type": "code",
   "execution_count": null,
   "metadata": {},
   "outputs": [],
   "source": [
    "def get_edge_pts(G):\n",
    "    pts_list = []\n",
    "    for u, v, data in G.edges(data=True):\n",
    "        pts = data.get('pts')\n",
    "        pts_list.append(pts)\n",
    "    # Combine all edge pts into one array.\n",
    "    if pts_list:\n",
    "        all_pts = np.vstack(pts_list)\n",
    "    return all_pts\n",
    "\n",
    "trefoil_graph = trefoil.skeleton_graph(clean=True, thickness=0.2)\n",
    "trefoil_skeleton = get_edge_pts(trefoil_graph)\n",
    "trefoil_ske_fig = trefoil.plot_3D(trefoil_skeleton,\n",
    "                        file_name=\"./assets/trefoil_skeleton.html\"\n",
    "                    )\n",
    "trefoil_graph_fig = trefoil.plot_graph(trefoil_graph,\n",
    "                        file_name=\"./assets/trefoil_knotted_graph.html\"\n",
    "                    )\n",
    "trefoil_ske_fig.show()\n",
    "trefoil_graph_fig.show()"
   ]
  },
  {
   "cell_type": "markdown",
   "metadata": {},
   "source": [
    "# Intrinsically Linked - Petersen Graph Minor Example"
   ]
  },
  {
   "cell_type": "code",
   "execution_count": null,
   "metadata": {},
   "outputs": [],
   "source": [
    "def arbitrary_func(z, w):\n",
    "    \"\"\" f: C^2 -> C (Figure-8 Knot) \"\"\"   \n",
    "    return  z*(z**2-w**4+w)\n",
    " \n",
    "k=0.9*np.pi\n",
    "X = NodalKnot(k_to_zw, arbitrary_func,\n",
    "              kx_min=-k, kx_max=k,\n",
    "              ky_min=-k, ky_max=k,\n",
    "              kz_min=0, kz_max=k,pts_per_dim=600)\n",
    "X_surface = X.knot_surface_points(thickness=0.2, epsilon=0.001)\n",
    "\n",
    "\n",
    "X_points = X.knot_skeleton_points()\n",
    "X_fig = trefoil.plot_3D(X_points)\n",
    "X_fig.show()\n",
    " \n",
    " "
   ]
  },
  {
   "cell_type": "code",
   "execution_count": null,
   "metadata": {},
   "outputs": [],
   "source": [
    "\n",
    "X_surf_fig = X.plot_3D(X_surface)\n",
    "X_surf_fig.show()\n",
    " "
   ]
  },
  {
   "cell_type": "code",
   "execution_count": null,
   "metadata": {},
   "outputs": [],
   "source": [
    "X_graph = X.skeleton_graph(clean=True, thickness=0.2)\n",
    "X_graph_fig = X.plot_graph(X_graph)\n",
    "X_graph_fig.show()"
   ]
  },
  {
   "cell_type": "code",
   "execution_count": null,
   "metadata": {},
   "outputs": [],
   "source": [
    "X.print_graph_properties(X_graph)"
   ]
  },
  {
   "cell_type": "code",
   "execution_count": null,
   "metadata": {},
   "outputs": [],
   "source": [
    "import networkx as nx\n",
    "\n",
    "def contract_degree_two_nodes(G):\n",
    "    # Work on a copy if you wish to preserve the original graph.\n",
    "    G = G.copy()\n",
    "    # We use a loop that repeats until no degree-2 node remains.\n",
    "    changed = True\n",
    "    while changed:\n",
    "        changed = False\n",
    "        # We iterate over a static list of nodes because we will be modifying G.\n",
    "        for node in list(G.nodes()):\n",
    "            if G.degree(node) == 2:\n",
    "                neighbors = list(G.neighbors(node))\n",
    "                if len(neighbors) == 2:\n",
    "                    u, w = neighbors\n",
    "                    # Optionally, check for self-loops or parallel edges.\n",
    "                    if u != w:\n",
    "                        # Add an edge between the neighbors.\n",
    "                        G.add_edge(u, w)\n",
    "                    # Remove the degree-2 node.\n",
    "                    G.remove_node(node)\n",
    "                    changed = True\n",
    "    return G \n",
    "simplified_graph = contract_degree_two_nodes(X_graph)\n",
    "mapping = {old_label: new_label for new_label, old_label in enumerate(simplified_graph.nodes(), start=1)}\n",
    "simplified_graph = nx.relabel_nodes(simplified_graph, mapping)\n",
    "\n",
    "# Assuming contracted_graph is your graph after processing:\n",
    "X.print_graph_properties(simplified_graph)\n"
   ]
  },
  {
   "cell_type": "code",
   "execution_count": null,
   "metadata": {},
   "outputs": [],
   "source": [
    "# Generate positions using the shell layout.\n",
    "pos = nx.shell_layout(simplified_graph)\n",
    "\n",
    "plt.figure(figsize=(4, 4))\n",
    "nx.draw(simplified_graph, pos, with_labels=True,\n",
    "        node_color='white', edgecolors='black',  # white fill, black border for nodes\n",
    "        edge_color='black', node_size=500) \n",
    "plt.show()\n"
   ]
  },
  {
   "cell_type": "markdown",
   "metadata": {},
   "source": [
    "##### 1 - To do: Add whole petersen family of graphs to create a function Is_Intrinsically_Linked (Sage liblary has it)\n",
    " "
   ]
  },
  {
   "cell_type": "code",
   "execution_count": null,
   "metadata": {},
   "outputs": [],
   "source": [
    "petersen_graph= nx.petersen_graph() ### Try to add whole petersen family of graphs to create a function Is_Intrinsically_Linked\n",
    "Embedding=X.check_minor(host_graph=simplified_graph,minor_graph=petersen_graph)"
   ]
  },
  {
   "cell_type": "code",
   "execution_count": null,
   "metadata": {},
   "outputs": [],
   "source": [
    "def standard_petersen_layout():\n",
    "    \"\"\"\n",
    "    Returns a dictionary of positions for the Petersen graph in a classic layout:\n",
    "      - Nodes 0..4 arranged in a pentagon (outer ring)\n",
    "      - Nodes 5..9 arranged in a smaller, rotated pentagon (inner star)\n",
    "    \"\"\"\n",
    "    coords = {}\n",
    "    R_outer = 1.2\n",
    "    R_inner = 0.7\n",
    "    # Outer ring: nodes 0..4\n",
    "    for i in range(5):\n",
    "        angle = 2 * math.pi * i / 5\n",
    "        x = R_outer * math.cos(angle)\n",
    "        y = R_outer * math.sin(angle)\n",
    "        coords[i] = (x, y)\n",
    "    # Inner star: nodes 5..9, rotated half a step\n",
    "    for i in range(5):\n",
    "        angle = 2 * math.pi * (i + 0.5) / 5\n",
    "        x = R_inner * math.cos(angle)\n",
    "        y = R_inner * math.sin(angle)\n",
    "        coords[i + 5] = (x, y)\n",
    "    return coords\n",
    "# Get canonical positions for the Petersen minor vertices.\n",
    "petersen_positions = standard_petersen_layout()\n",
    "\n",
    "# Create a new figure.\n",
    "fig, ax = plt.subplots(figsize=(8, 8))\n",
    " \n",
    "scale_factor = 1.0  # already scaled in standard_petersen_layout\n",
    "for (u, v) in petersen_graph.edges():\n",
    "    pos_u = np.array(petersen_positions[u]) * scale_factor\n",
    "    pos_v = np.array(petersen_positions[v]) * scale_factor\n",
    "    ax.plot([pos_u[0], pos_v[0]], [pos_u[1], pos_v[1]], 'k-', lw=3, zorder=0)\n",
    "\n",
    "# Parameters for drawing boxes.\n",
    "box_width = 0.5\n",
    "box_height = 0.3\n",
    "\n",
    "# For each minor vertex (0 through 9), create a box at the canonical position.\n",
    "for minor_node, (x_center, y_center) in petersen_positions.items():\n",
    "    # Calculate bottom-left corner of the box.\n",
    "    x_box = x_center - box_width / 2\n",
    "    y_box = y_center - box_height / 2\n",
    "    \n",
    "    # Set box fill color: outer (0–4) blue, inner (5–9) red.\n",
    "    if minor_node < 5:\n",
    "        box_color = 'lightblue'\n",
    "    else:\n",
    "        box_color = 'lightcoral'\n",
    "    \n",
    "    # Create a rectangle patch representing the group (chain) of nodes.\n",
    "    rect = patches.Rectangle((x_box, y_box), box_width, box_height,\n",
    "                                edgecolor='black', facecolor=box_color, lw=2, zorder=1)\n",
    "    ax.add_patch(rect)\n",
    "    \n",
    "    # Get the chain (list of host nodes) for this minor vertex.\n",
    "    chain = Embedding.get(minor_node, [])\n",
    "    n = len(chain)\n",
    "    if n == 0:\n",
    "        continue\n",
    "    \n",
    "    # Draw each host node as a circle with its number inside.\n",
    "    circle_radius = box_height / 2.5  # increased radius for bigger circles\n",
    "    \n",
    "    # Determine horizontal positions for the circles inside the box.\n",
    "    if n == 1:\n",
    "        x_positions = [x_center]\n",
    "    else:\n",
    "        x_positions = np.linspace(x_box + circle_radius, x_box + box_width - circle_radius, n)\n",
    "    \n",
    "    # Vertical position for all circles is the center of the box.\n",
    "    y_pos = y_center\n",
    "    \n",
    "    # Draw each circle (with a high zorder so they appear on top of edges).\n",
    "    for i, node_val in enumerate(chain):\n",
    "        circ_center = (x_positions[i], y_pos)\n",
    "        circ = patches.Circle(circ_center, radius=circle_radius,\n",
    "                                edgecolor='black', facecolor='white', lw=2, zorder=10)\n",
    "        ax.add_patch(circ)\n",
    "        ax.text(circ_center[0], circ_center[1], str(node_val),\n",
    "                ha='center', va='center', fontsize=10, fontweight='bold', zorder=11)\n",
    "        \n",
    "    \n",
    "ax.set_aspect('equal')\n",
    "ax.axis('off') \n",
    "plt.show()\n"
   ]
  },
  {
   "cell_type": "markdown",
   "metadata": {},
   "source": [
    "##### 2 - To do: Try to find a intrinsically knotted(IK) example containing K6, K7 (remember IK is a minor closed property so if we can find an example where K6,K7 is a minor of a given G, then G is IK)\n",
    "\n",
    "##### 3- To do: Do it for intrinsic n-linkedness for n>=3"
   ]
  },
  {
   "cell_type": "markdown",
   "metadata": {},
   "source": [
    "# Intrinsically Knotted - $K_7$ & $K_{3,3,1,1}$  Conway Foisy  Theorem"
   ]
  },
  {
   "cell_type": "code",
   "execution_count": null,
   "metadata": {},
   "outputs": [],
   "source": [
    " \n",
    "def arbitrary_func(z, w):\n",
    " \n",
    "    return (z**2+w**2)+(z**3-w**4)\n",
    " \n",
    " \n",
    "k=np.pi\n",
    "X = NodalKnot(k_to_zw, arbitrary_func,\n",
    "              kx_min=-k, kx_max=k,\n",
    "              ky_min=-k, ky_max=k,\n",
    "              kz_min=0, kz_max=k,pts_per_dim=400)\n",
    " \n",
    "\n",
    "X_points = X.knot_skeleton_points()\n",
    "X_fig = trefoil.plot_3D(X_points)\n",
    "X_fig.show()\n",
    " \n",
    " "
   ]
  },
  {
   "cell_type": "code",
   "execution_count": null,
   "metadata": {},
   "outputs": [],
   "source": [
    "X_graph = X.skeleton_graph(clean=True, thickness=0.6)\n",
    "X_graph_fig = X.plot_graph(X_graph)\n",
    "X_graph_fig.show()"
   ]
  },
  {
   "cell_type": "code",
   "execution_count": null,
   "metadata": {},
   "outputs": [],
   "source": [
    "simplified_graph = contract_degree_two_nodes(X_graph)\n",
    "mapping = {old_label: new_label for new_label, old_label in enumerate(simplified_graph.nodes(), start=1)}\n",
    "simplified_graph = nx.relabel_nodes(simplified_graph, mapping)\n",
    "\n",
    "# Assuming contracted_graph is your graph after processing:\n",
    "X.print_graph_properties(simplified_graph)"
   ]
  },
  {
   "cell_type": "code",
   "execution_count": null,
   "metadata": {},
   "outputs": [],
   "source": [
    "K7 = nx.complete_graph(7)\n",
    "K3311 = nx.complete_multipartite_graph(3, 3, 1, 1)\n",
    "X.check_minor(host_graph=simplified_graph,minor_graph=K7)\n",
    "X.check_minor(host_graph=simplified_graph,minor_graph=K3311)"
   ]
  },
  {
   "cell_type": "markdown",
   "metadata": {},
   "source": [
    "### Yamada Polynomial"
   ]
  },
  {
   "cell_type": "code",
   "execution_count": null,
   "metadata": {},
   "outputs": [],
   "source": [
    "from topoly import yamada\n",
    "from topoly.params import Closure"
   ]
  },
  {
   "cell_type": "code",
   "execution_count": null,
   "metadata": {},
   "outputs": [],
   "source": [
    "def pd_code(graph): \n",
    "    # Create a dictionary to assign a unique id for each unordered edge pair\n",
    "    edge_ids = {}\n",
    "    current_id = 1\n",
    "    \n",
    "    # Iterate over all edges in the graph\n",
    "    for u, v in graph.edges():\n",
    "        key = tuple(sorted((u, v)))  # Ensure (u,v) and (v,u) are considered identical.\n",
    "        if key not in edge_ids:\n",
    "            edge_ids[key] = current_id\n",
    "            current_id += 1\n",
    "\n",
    "    # Create a dictionary mapping each node to its list of edge identifiers\n",
    "    node_edge_ids_dict = {}\n",
    "    for node in graph.nodes():\n",
    "        node_edge_ids = []\n",
    "        # For each neighbor of the node, get the corresponding edge id.\n",
    "        for neighbor in graph[node]:\n",
    "            key = tuple(sorted((node, neighbor)))\n",
    "            node_edge_ids.append(edge_ids[key])\n",
    "        node_edge_ids_dict[node] = node_edge_ids\n",
    "\n",
    "    # Return only the list of edge identifier lists\n",
    "    return list(node_edge_ids_dict.values())\n",
    "\n",
    "X_graph = X.skeleton_graph(clean=True, thickness=0.6)\n",
    "X_graph_fig = X.plot_graph(X_graph)\n",
    "X_graph_fig.show()\n",
    "\n",
    "simplified_graph = contract_degree_two_nodes(X_graph)\n",
    "mapping = {old_label: new_label for new_label, old_label in enumerate(simplified_graph.nodes(), start=1)}\n",
    "simplified_graph = nx.relabel_nodes(simplified_graph, mapping)\n",
    "\n",
    "# Assuming contracted_graph is your graph after processing:\n",
    "X.print_graph_properties(simplified_graph)\n",
    "\n",
    "\n",
    "Pd_code = pd_code(simplified_graph)\n",
    " \n",
    "print(\"Yamada polynomial coefficients are: \" +yamada( list(Pd_code), closure=Closure.CLOSED))"
   ]
  },
  {
   "cell_type": "code",
   "execution_count": null,
   "metadata": {},
   "outputs": [],
   "source": [
    "def arbitrary_func(z, w):\n",
    "    return  z*(z**2-w**4+w)\n",
    " \n",
    "k=0.9*np.pi\n",
    "X = NodalKnot(k_to_zw, arbitrary_func,\n",
    "              kx_min=-k, kx_max=k,\n",
    "              ky_min=-k, ky_max=k,\n",
    "              kz_min=0, kz_max=k,pts_per_dim=600)\n",
    "X_graph = X.skeleton_graph(clean=True, thickness=0.6)\n",
    "X_graph_fig = X.plot_graph(X_graph)\n",
    "X_graph_fig.show()\n",
    "\n",
    "simplified_graph = contract_degree_two_nodes(X_graph)\n",
    "mapping = {old_label: new_label for new_label, old_label in enumerate(simplified_graph.nodes(), start=1)}\n",
    "simplified_graph = nx.relabel_nodes(simplified_graph, mapping)\n",
    "\n",
    "# Assuming contracted_graph is your graph after processing:\n",
    "X.print_graph_properties(simplified_graph)\n",
    "\n",
    "\n",
    "Pd_code = pd_code(simplified_graph)\n",
    " \n",
    "print(\"Yamada polynomial coefficients are:\" +yamada(Pd_code, closure=Closure.CLOSED))"
   ]
  },
  {
   "cell_type": "code",
   "execution_count": null,
   "metadata": {},
   "outputs": [],
   "source": [
    "from yamada import extract_graph_from_json_file, SpatialGraph\n",
    "\n",
    "nodes = list(map(str, simplified_graph.nodes()))\n",
    "\n",
    "# Get node positions from the node attribute 'pos'\n",
    "node_positions = nx.get_node_attributes(simplified_graph, 'pos') \n",
    "\n",
    "# Get the list of edges\n",
    "edges = [(str(u), str(v)) for u, v in simplified_graph.edges()]\n",
    "\n",
    "\n",
    "# Instantiate the SpatialGraph object\n",
    "sg = SpatialGraph(nodes=nodes,\n",
    "                  node_positions=node_positions,\n",
    "                  edges=edges)\n",
    "\n",
    "# Plot the Spatial Graph in 3D and the projected 2D plane to see what's going on. Crossings will be circled in red.\n",
    "# Note: Crossings occur when two edges that do not intersect, but appear to when they are projected onto a 2D plane.\n",
    "# sg.plot()\n",
    "\n",
    "# Create the spatial graph diagram (necessary for calculating the Yamada polynomial)\n",
    "sgd = sg.create_spatial_graph_diagram()\n",
    "\n",
    "# Calculate the Yamada polynomial\n",
    "# We use the normalized version because it is more useful for comparing polynomials\n",
    "yamada_polynomial = sgd.normalized_yamada_polynomial()\n",
    "print(\"Yamada Polynomial: \", yamada_polynomial)"
   ]
  },
  {
   "cell_type": "code",
   "execution_count": null,
   "metadata": {},
   "outputs": [],
   "source": [
    "edges\n"
   ]
  },
  {
   "cell_type": "code",
   "execution_count": null,
   "metadata": {},
   "outputs": [],
   "source": []
  }
 ],
 "metadata": {
  "kernelspec": {
   "display_name": "knot",
   "language": "python",
   "name": "python3"
  },
  "language_info": {
   "codemirror_mode": {
    "name": "ipython",
    "version": 3
   },
   "file_extension": ".py",
   "mimetype": "text/x-python",
   "name": "python",
   "nbconvert_exporter": "python",
   "pygments_lexer": "ipython3",
   "version": "3.11.11"
  }
 },
 "nbformat": 4,
 "nbformat_minor": 2
}
