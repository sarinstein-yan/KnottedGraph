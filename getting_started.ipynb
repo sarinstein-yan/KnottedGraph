{
 "cells": [
  {
   "cell_type": "markdown",
   "id": "0454cea3",
   "metadata": {},
   "source": [
    "# `knotted_graph`: Analyzing Non-Hermitian Topological Nodal Structures"
   ]
  },
  {
   "cell_type": "markdown",
   "id": "7c006ab3",
   "metadata": {},
   "source": [
    "`knotted_graph` is a package designed to analyze and visualize the topological features of 2-band, 3-D non-Hermitian nodal systems. In these systems, the eigen-energies become complex, and points in momentum space where the Hamiltonian's eigenvalues and eigenvectors coalesce simultaneously are known as **exceptional points (EPs)**.\n",
    "\n",
    "In 3D non-Hermitian nodal systems, these EPs usually form an **exceptional surfaces (ES)**. The **skeleton** (i.e. **medial axis**) serves as a topological fingerprint for the non-Hermitian nodal phase. The `NodalSkeleton` class helps in:\n",
    "\n",
    "1. Calculating the complex energy spectrum.\n",
    "2. Visualizing the 3D exceptional surface.\n",
    "3. Extracting the *medial axis (skeleton)* of the ES, which forms a *spatial multigraph*.\n",
    "4. Analyzing and visualizing the topology of this skeleton graph.\n",
    "\n",
    "This guide will walk you through the process of using the `NodalSkeleton` class, from defining a Hamiltonian to analyzing its exceptional skeleton graph."
   ]
  },
  {
   "cell_type": "markdown",
   "id": "d01d49e3",
   "metadata": {},
   "source": [
    "## Installation\n",
    "This module is tested on `Python >= 3.11`.\n",
    "clone the repository and install it manually:"
   ]
  },
  {
   "cell_type": "code",
   "execution_count": 1,
   "id": "8450184c",
   "metadata": {},
   "outputs": [
    {
     "name": "stdout",
     "output_type": "stream",
     "text": [
      "0.1.0\n"
     ]
    }
   ],
   "source": [
    "try:\n",
    "    import knotted_graph as kg\n",
    "except ImportError:\n",
    "    !git clone https://github.com/sarinstein-yan/Nodal-Knot.git\n",
    "    !pip install -e ./Nodal-Knot\n",
    "    import knotted_graph as kg\n",
    "\n",
    "print(kg.__version__)\n",
    "EXPORT_FIGS = False"
   ]
  },
  {
   "cell_type": "markdown",
   "id": "ae734389",
   "metadata": {},
   "source": [
    "## Usage"
   ]
  },
  {
   "cell_type": "markdown",
   "id": "9999ec48",
   "metadata": {},
   "source": [
    "### Initializing the `NodalSkeleton` Class"
   ]
  },
  {
   "cell_type": "markdown",
   "id": "10170f58",
   "metadata": {},
   "source": [
    "1. First, one needs to define a 2-band non-Hermitian Hamiltonian in terms of the momentum vector $\\vec{k} = (k_x, k_y, k_z)$. \\\n",
    "    The class accepts the Hamiltonian \"`Characteristic`\" in two forms:\n",
    "    - either as a 2x2 `sympy` matrix, $H(\\vec{k}) = \\vec{d}(\\vec{k}) \\cdot \\vec{\\sigma}$, where $\\vec{\\sigma} = (\\sigma_x, \\sigma_y, \\sigma_z)$ are the Pauli matrices,\n",
    "    - or directly as the components of the Bloch vector, $\\vec{d}(\\vec{k}) = (d_x(\\vec{k}), d_y(\\vec{k}), d_z(\\vec{k}))$. The non-Hermiticity arises from complex terms in $\\vec{d}(\\vec{k})$.\n",
    "\n",
    "2. Next, optionally, specify the k-space region of interest (the `span` parameter) and the resolution of the k-space grid (the `dimension` parameter).\n",
    "\n",
    "3. If the $k$ `sympy.Symbol`s in the input Hamiltonian `sp.Matrix` or `(d_x, d_y, d_z)` are named unconventionally, you need to specify them in the `k_symbols` parameter. Otherwise, the `k_symbols` are inferred from the input Hamiltonian `characteristic`.\n",
    "\n",
    "Let's define a model that is known to produce a **Hopf link** nodal lines in the Hermitian limit. When the non-Hermiticity is introduced, the nodal line (exceptional *line*) will expand into a exceptional *surface*."
   ]
  },
  {
   "cell_type": "code",
   "execution_count": 2,
   "id": "2e2c18d6",
   "metadata": {},
   "outputs": [
    {
     "name": "stdout",
     "output_type": "stream",
     "text": [
      "Hamiltonian is Hermitian: False\n",
      "Hamiltonian is PT-symmetric: False\n"
     ]
    }
   ],
   "source": [
    "import numpy as np\n",
    "import sympy as sp\n",
    "from knotted_graph import NodalSkeleton\n",
    "\n",
    "# Define momentum symbols\n",
    "kx, ky, kz = sp.symbols('k_x k_y k_z', real=True)\n",
    "\n",
    "# Define a non-Hermitian Bloch vector that can form a Hopf link\n",
    "def hopf_bloch_vector(gamma, k_symbols=(kx, ky, kz)):\n",
    "    \"\"\"Returns the Bloch vector components for a Hopf link.\"\"\"\n",
    "    kx, ky, kz = k_symbols\n",
    "    z = sp.cos(2*kz) + sp.Rational(1, 2) \\\n",
    "        + sp.I*(sp.cos(kx) + sp.cos(ky) + sp.cos(kz) - 2)\n",
    "    w = sp.sin(kx) + sp.I*sp.sin(ky)\n",
    "    f = z**2 - w**2 \n",
    "    cx = sp.simplify(sp.re(f))\n",
    "    cz = sp.simplify(sp.im(f))\n",
    "    return (cx, gamma * sp.I, cz)\n",
    "\n",
    "gamma = 0.1  # Non-Hermitian strength\n",
    "d_x, d_y, d_z = hopf_bloch_vector(gamma)\n",
    "\n",
    "# Initialize the `NodalSkeleton` with the Hamioltonian characteristic\n",
    "ske = NodalSkeleton(\n",
    "    char = (d_x, d_y, d_z),\n",
    "    # k_symbols = (kx, ky, kz), # optional, we have named them *conventionally*\n",
    "    # span = ((-np.pi, np.pi), (-np.pi, np.pi), (0, np.pi))\n",
    "    # dimension = 200\n",
    ")\n",
    "\n",
    "print(f\"Hamiltonian is Hermitian: {ske.is_Hermitian}\")\n",
    "print(f\"Hamiltonian is PT-symmetric: {ske.is_PT_symmetric}\")"
   ]
  },
  {
   "cell_type": "markdown",
   "id": "fb369a79",
   "metadata": {},
   "source": [
    "### Properties"
   ]
  },
  {
   "cell_type": "markdown",
   "id": "0018e49d",
   "metadata": {},
   "source": [
    "- Hamiltionian matrix (`sympy.Matrix`):"
   ]
  },
  {
   "cell_type": "code",
   "execution_count": 3,
   "id": "8a783723",
   "metadata": {},
   "outputs": [
    {
     "data": {
      "text/latex": [
       "$\\displaystyle \\left[\\begin{matrix}\\left(2 \\cos{\\left(2 k_{z} \\right)} + 1\\right) \\left(\\cos{\\left(k_{x} \\right)} + \\cos{\\left(k_{y} \\right)} + \\cos{\\left(k_{z} \\right)} - 2\\right) - 2 \\sin{\\left(k_{x} \\right)} \\sin{\\left(k_{y} \\right)} & \\frac{\\left(2 \\cos{\\left(2 k_{z} \\right)} + 1\\right)^{2}}{4} - \\left(\\cos{\\left(k_{x} \\right)} + \\cos{\\left(k_{y} \\right)} + \\cos{\\left(k_{z} \\right)} - 2\\right)^{2} - \\sin^{2}{\\left(k_{x} \\right)} + \\sin^{2}{\\left(k_{y} \\right)} + 0.1\\\\\\frac{\\left(2 \\cos{\\left(2 k_{z} \\right)} + 1\\right)^{2}}{4} - \\left(\\cos{\\left(k_{x} \\right)} + \\cos{\\left(k_{y} \\right)} + \\cos{\\left(k_{z} \\right)} - 2\\right)^{2} - \\sin^{2}{\\left(k_{x} \\right)} + \\sin^{2}{\\left(k_{y} \\right)} - 0.1 & - \\left(2 \\cos{\\left(2 k_{z} \\right)} + 1\\right) \\left(\\cos{\\left(k_{x} \\right)} + \\cos{\\left(k_{y} \\right)} + \\cos{\\left(k_{z} \\right)} - 2\\right) + 2 \\sin{\\left(k_{x} \\right)} \\sin{\\left(k_{y} \\right)}\\end{matrix}\\right]$"
      ],
      "text/plain": [
       "Matrix([\n",
       "[                      (2*cos(2*k_z) + 1)*(cos(k_x) + cos(k_y) + cos(k_z) - 2) - 2*sin(k_x)*sin(k_y), (2*cos(2*k_z) + 1)**2/4 - (cos(k_x) + cos(k_y) + cos(k_z) - 2)**2 - sin(k_x)**2 + sin(k_y)**2 + 0.1],\n",
       "[(2*cos(2*k_z) + 1)**2/4 - (cos(k_x) + cos(k_y) + cos(k_z) - 2)**2 - sin(k_x)**2 + sin(k_y)**2 - 0.1,                      -(2*cos(2*k_z) + 1)*(cos(k_x) + cos(k_y) + cos(k_z) - 2) + 2*sin(k_x)*sin(k_y)]])"
      ]
     },
     "execution_count": 3,
     "metadata": {},
     "output_type": "execute_result"
    }
   ],
   "source": [
    "ske.h_k"
   ]
  },
  {
   "cell_type": "markdown",
   "id": "4b066516",
   "metadata": {},
   "source": [
    "- Bloch vector (`(sp.Expr, sp.Expr, sp.Expr)`):"
   ]
  },
  {
   "cell_type": "code",
   "execution_count": 4,
   "id": "9cc61183",
   "metadata": {},
   "outputs": [
    {
     "data": {
      "text/plain": [
       "((2*cos(2*k_z) + 1)**2/4 - (cos(k_x) + cos(k_y) + cos(k_z) - 2)**2 - sin(k_x)**2 + sin(k_y)**2,\n",
       " 0.1*I,\n",
       " (2*cos(2*k_z) + 1)*(cos(k_x) + cos(k_y) + cos(k_z) - 2) - 2*sin(k_x)*sin(k_y))"
      ]
     },
     "execution_count": 4,
     "metadata": {},
     "output_type": "execute_result"
    }
   ],
   "source": [
    "ske.bloch_vec"
   ]
  },
  {
   "cell_type": "markdown",
   "id": "5374aac5",
   "metadata": {},
   "source": [
    "- $k$-space region information:"
   ]
  },
  {
   "cell_type": "code",
   "execution_count": 5,
   "id": "10d8d036",
   "metadata": {},
   "outputs": [
    {
     "name": "stdout",
     "output_type": "stream",
     "text": [
      "self.dimension: 200\n",
      "self.spacing: [0.0315738 0.0315738 0.0157869]\n",
      "self.origin: [-3.14159265 -3.14159265  0.        ]\n",
      "self.span: [[-3.14159265  3.14159265]\n",
      " [-3.14159265  3.14159265]\n",
      " [ 0.          3.14159265]]\n",
      "self.kx_span: (-3.141592653589793, 3.141592653589793)\n",
      "self.ky_span: (-3.141592653589793, 3.141592653589793)\n",
      "self.kz_span: (0, 3.141592653589793)\n",
      "self.kx_min: -3.141592653589793\n",
      "self.kx_max: 3.141592653589793\n",
      "self.kx_symbol: k_x | <class 'sympy.core.symbol.Symbol'>\n",
      "self.kx_vals: shape - (200,) | dtype - float64\n",
      "self.kx_grid: shape - (200, 200, 200) | dtype - float64\n"
     ]
    }
   ],
   "source": [
    "print(f\"self.dimension: {ske.dimension}\")\n",
    "print(f\"self.spacing: {ske.spacing}\")\n",
    "print(f\"self.origin: {ske.origin}\")\n",
    "\n",
    "print(f\"self.span: {ske.span}\")\n",
    "print(f\"self.kx_span: {ske.kx_span}\")\n",
    "print(f\"self.ky_span: {ske.ky_span}\")\n",
    "print(f\"self.kz_span: {ske.kz_span}\")\n",
    "\n",
    "# Below attributes are also available for y and z\n",
    "print(f\"self.kx_min: {ske.kx_min}\")\n",
    "print(f\"self.kx_max: {ske.kx_max}\")\n",
    "print(f\"self.kx_symbol: {ske.kx_symbol} | {type(ske.kx_symbol)}\")\n",
    "print(f\"self.kx_vals: shape - {ske.kx_vals.shape} | dtype - {ske.kx_vals.dtype}\")\n",
    "print(f\"self.kx_grid: shape - {ske.kx_grid.shape} | dtype - {ske.kx_grid.dtype}\")"
   ]
  },
  {
   "cell_type": "markdown",
   "id": "6042df99",
   "metadata": {},
   "source": [
    "- Enery spectrum (only the upper band) (`np.ndarray`):"
   ]
  },
  {
   "cell_type": "code",
   "execution_count": 6,
   "id": "e1789257",
   "metadata": {},
   "outputs": [
    {
     "data": {
      "text/plain": [
       "((200, 200, 200), dtype('complex128'))"
      ]
     },
     "execution_count": 6,
     "metadata": {},
     "output_type": "execute_result"
    }
   ],
   "source": [
    "ske.spectrum.shape, ske.spectrum.dtype"
   ]
  },
  {
   "cell_type": "markdown",
   "id": "670727f3",
   "metadata": {},
   "source": [
    "- Band gap (= `2 × |upper band spectrum|`) (`np.ndarray`):"
   ]
  },
  {
   "cell_type": "code",
   "execution_count": 7,
   "id": "18a4fafd",
   "metadata": {},
   "outputs": [
    {
     "data": {
      "text/plain": [
       "((200, 200, 200), dtype('float64'))"
      ]
     },
     "execution_count": 7,
     "metadata": {},
     "output_type": "execute_result"
    }
   ],
   "source": [
    "ske.band_gap.shape, ske.band_gap.dtype"
   ]
  },
  {
   "cell_type": "markdown",
   "id": "3d49e764",
   "metadata": {},
   "source": [
    "#### **Skeleton graph** (`networkx.MultiGraph`):"
   ]
  },
  {
   "cell_type": "code",
   "execution_count": 8,
   "id": "7fbe0b64",
   "metadata": {},
   "outputs": [
    {
     "data": {
      "text/plain": [
       "<networkx.classes.multigraph.MultiGraph at 0x1e947264e30>"
      ]
     },
     "execution_count": 8,
     "metadata": {},
     "output_type": "execute_result"
    }
   ],
   "source": [
    "graph = ske.skeleton_graph(\n",
    "    # simplify = True,  # Topological simplification\n",
    "    # smooth_epsilon = 4,  # Smoothness, unit is pixel\n",
    "    # skeleton_image = ... # Can construct a skeleton graph from an skeletonized image\n",
    ")\n",
    "graph"
   ]
  },
  {
   "cell_type": "markdown",
   "id": "5b4b0629",
   "metadata": {},
   "source": [
    "- Check if the graph is trivalent\n",
    "\n",
    "I.e. whether each vertex has degree <= 3. If trivalent, the *Yamada polynomial* is an isotopic invariant of the skeleton multigraph."
   ]
  },
  {
   "cell_type": "code",
   "execution_count": 9,
   "id": "64f08238",
   "metadata": {},
   "outputs": [
    {
     "data": {
      "text/plain": [
       "(True, True)"
      ]
     },
     "execution_count": 9,
     "metadata": {},
     "output_type": "execute_result"
    }
   ],
   "source": [
    "graph.graph['is_trivalent'], ske.is_graph_trivalent"
   ]
  },
  {
   "cell_type": "markdown",
   "id": "ecfe34ea",
   "metadata": {},
   "source": [
    "- Graph summary:"
   ]
  },
  {
   "cell_type": "code",
   "execution_count": 10,
   "id": "9fe5c418",
   "metadata": {},
   "outputs": [
    {
     "name": "stdout",
     "output_type": "stream",
     "text": [
      "| Property               | Value   |\n",
      "|------------------------|---------|\n",
      "| Number of nodes        | 2       |\n",
      "| Number of edges        | 2       |\n",
      "| Connected              | No      |\n",
      "| # Connected components | 2       |\n",
      "| Component 1 size       | 1       |\n",
      "| Component 2 size       | 1       |\n",
      "\n",
      "Degree distribution:\n",
      "|   Degree |   Frequency |\n",
      "|----------|-------------|\n",
      "|        2 |           2 |\n"
     ]
    }
   ],
   "source": [
    "ske.graph_summary()"
   ]
  },
  {
   "cell_type": "markdown",
   "id": "73469c05",
   "metadata": {},
   "source": [
    "- Check graph minors:"
   ]
  },
  {
   "cell_type": "code",
   "execution_count": 11,
   "id": "7c62102b",
   "metadata": {},
   "outputs": [
    {
     "name": "stdout",
     "output_type": "stream",
     "text": [
      "Checking for K3 minor...\n",
      "The given graph DOES NOT contain the minor graph.\n",
      "\n",
      "Checking for K4 minor...\n",
      "The given graph DOES NOT contain the minor graph.\n"
     ]
    }
   ],
   "source": [
    "import networkx as nx\n",
    "\n",
    "# Check if K_3 graph (a cycle of 3 nodes) is a minor of our skeleton graph\n",
    "k3_graph = nx.complete_graph(3)\n",
    "print(\"Checking for K3 minor...\")\n",
    "ske.check_minor(minor_graph=k3_graph)\n",
    "\n",
    "# Now, let's try a more complex graph, K4 (complete graph of 4 nodes)\n",
    "# A simple loop shouldn't contain a K4 minor.\n",
    "k4_graph = nx.complete_graph(4)\n",
    "print(\"\\nChecking for K4 minor...\")\n",
    "ske.check_minor(k4_graph, host_graph=graph)"
   ]
  },
  {
   "cell_type": "markdown",
   "id": "24445927",
   "metadata": {},
   "source": [
    "### Visualization"
   ]
  },
  {
   "cell_type": "markdown",
   "id": "b4e10cae",
   "metadata": {},
   "source": [
    "`NodalSkeleton` uses `pyvista` for 3D plotting, creating interactive visualizations."
   ]
  },
  {
   "cell_type": "markdown",
   "id": "dadd9f44",
   "metadata": {},
   "source": [
    "#### Plotting the Exceptional Surface\n",
    "\n",
    "The exceptional surface is the 3D surface in k-space where the band gap closes, defined by\n",
    "$$\n",
    "|d(\\vec{k})| = 0 \\Leftrightarrow d_x(\\vec{k})^2 + d_y(\\vec{k})^2 + d_z(\\vec{k})^2 = 0\n",
    "$$"
   ]
  },
  {
   "cell_type": "code",
   "execution_count": 12,
   "id": "2a82d51d",
   "metadata": {},
   "outputs": [
    {
     "data": {
      "application/vnd.jupyter.widget-view+json": {
       "model_id": "e3d585faa4664ff3b694ee80b243faa1",
       "version_major": 2,
       "version_minor": 0
      },
      "text/plain": [
       "Widget(value='<iframe src=\"http://localhost:11568/index.html?ui=P_0x1e9487bf0b0_0&reconnect=auto\" class=\"pyvis…"
      ]
     },
     "metadata": {},
     "output_type": "display_data"
    }
   ],
   "source": [
    "import pyvista as pv\n",
    "pv.set_jupyter_backend('client')\n",
    "\n",
    "plotter = pv.Plotter(notebook=True)\n",
    "plotter = ske.plot_exceptional_surface(plotter=plotter)\n",
    "plotter.add_bounding_box()\n",
    "plotter.show()\n",
    "if EXPORT_FIGS:\n",
    "    plotter.export_html(f'./assets/ES_gamma={gamma}.html')\n",
    "    plotter.save_graphic(f'./assets/ES_gamma={gamma}.svg')\n",
    "    plotter.save_graphic(f'./assets/ES_gamma={gamma}.pdf')"
   ]
  },
  {
   "cell_type": "markdown",
   "id": "02152b39",
   "metadata": {},
   "source": [
    "To add projected silhouettes of the exceptional surface onto the Surface Brillouin Zone (SBZ) planes, set `add_silhouettes=True`:"
   ]
  },
  {
   "cell_type": "code",
   "execution_count": 13,
   "id": "105339d0",
   "metadata": {},
   "outputs": [
    {
     "data": {
      "application/vnd.jupyter.widget-view+json": {
       "model_id": "d5324c4f376f4c4ca0b66490a1783a39",
       "version_major": 2,
       "version_minor": 0
      },
      "text/plain": [
       "Widget(value='<iframe src=\"http://localhost:11568/index.html?ui=P_0x1e94a00d790_1&reconnect=auto\" class=\"pyvis…"
      ]
     },
     "metadata": {},
     "output_type": "display_data"
    }
   ],
   "source": [
    "plotter = ske.plot_exceptional_surface(\n",
    "    add_silhouettes=True,  # Add projected silhouettes onto the SBZ planes\n",
    "    silh_origins=np.diag([-np.pi, -np.pi, 0]),  \n",
    "    # ^ Origin of the planes that the silhouettes are projected onto\n",
    ")\n",
    "plotter.show_bounds(xtitle='kx', ytitle='ky', ztitle='kz')\n",
    "plotter.add_bounding_box()\n",
    "plotter.zoom_camera(1.2)\n",
    "plotter.show()\n",
    "if EXPORT_FIGS:\n",
    "    plotter.export_html(f'./assets/ES_gamma={gamma}_silhouettes.html')\n",
    "    plotter.save_graphic(f'./assets/ES_gamma={gamma}_silhouettes.svg')\n",
    "    plotter.save_graphic(f'./assets/ES_gamma={gamma}_silhouettes.pdf')"
   ]
  },
  {
   "cell_type": "markdown",
   "id": "aa897af7",
   "metadata": {},
   "source": [
    "#### Plotting the ***Exceptional Skeleton Graph***"
   ]
  },
  {
   "cell_type": "markdown",
   "id": "f3ca34e0",
   "metadata": {},
   "source": [
    "The exceptional skeleton graph is the ***medial axis*** of the exceptional surface interior, where the *energy spectrum is purely imaginary*."
   ]
  },
  {
   "cell_type": "code",
   "execution_count": 14,
   "id": "6ef6539f",
   "metadata": {},
   "outputs": [
    {
     "data": {
      "application/vnd.jupyter.widget-view+json": {
       "model_id": "bffca95255f2448db8d995113b595746",
       "version_major": 2,
       "version_minor": 0
      },
      "text/plain": [
       "Widget(value='<iframe src=\"http://localhost:11568/index.html?ui=P_0x1e9a1318440_2&reconnect=auto\" class=\"pyvis…"
      ]
     },
     "metadata": {},
     "output_type": "display_data"
    }
   ],
   "source": [
    "plotter = ske.plot_skeleton_graph(\n",
    "    add_nodes=False, # since the skeleton is essentially a Hopf link\n",
    "    add_silhouettes=True,\n",
    "    silh_origins=np.diag([-np.pi, -np.pi, 0]),\n",
    ")\n",
    "plotter.show_bounds(xtitle='kx', ytitle='ky', ztitle='kz')\n",
    "plotter.add_bounding_box()\n",
    "plotter.show()\n",
    "if EXPORT_FIGS:\n",
    "    plotter.export_html(f'./assets/SG_gamma={gamma}_silhouettes.html')\n",
    "    plotter.save_graphic(f'./assets/SG_gamma={gamma}_silhouettes.svg')\n",
    "    plotter.save_graphic(f'./assets/SG_gamma={gamma}_silhouettes.pdf')"
   ]
  },
  {
   "cell_type": "markdown",
   "id": "71db4406",
   "metadata": {},
   "source": [
    "#### **Non-Hermiticity induced exceptional knotted graph**"
   ]
  },
  {
   "cell_type": "markdown",
   "id": "5c98bb97",
   "metadata": {},
   "source": [
    "For nodal knot systems, in the Hermitian limit or when non-Hermitian perturbation is small, the original knot / link topology is preserved, as shown above (`gamma=0.1`).\n",
    "\n",
    "When non-Hermiticity is prevalent enough, the exceptional surface starts to touch itself, leading to topological transitions --- the skeleton (i.e., medial axis) of the exceptional surface becomes a knotted graph (a.k.a. spatial multigraph).\n",
    "\n",
    "As the non-Hermiticity evolves, the knotted graph topology evolves accordingly, leading to a plethora of exotic 3D spatial geometries in the momentum space.\n",
    "\n",
    "E.g., let us set `gamma = [0.2, 0.5]`:"
   ]
  },
  {
   "cell_type": "code",
   "execution_count": 15,
   "id": "069c5e0d",
   "metadata": {},
   "outputs": [
    {
     "name": "stdout",
     "output_type": "stream",
     "text": [
      "With gamma = 0.2:\n",
      "\n",
      "| Property          | Value              |\n",
      "|-------------------|--------------------|\n",
      "| Number of nodes   | 4                  |\n",
      "| Number of edges   | 6                  |\n",
      "| Connected         | Yes                |\n",
      "| Diameter          | 2                  |\n",
      "| Avg shortest path | 1.3333333333333333 |\n",
      "\n",
      "Degree distribution:\n",
      "|   Degree |   Frequency |\n",
      "|----------|-------------|\n",
      "|        3 |           4 |\n"
     ]
    },
    {
     "data": {
      "application/vnd.jupyter.widget-view+json": {
       "model_id": "133a03dbfe8543d1b2488af7470c9be0",
       "version_major": 2,
       "version_minor": 0
      },
      "text/plain": [
       "Widget(value='<iframe src=\"http://localhost:11568/index.html?ui=P_0x1e946fc68d0_3&reconnect=auto\" class=\"pyvis…"
      ]
     },
     "metadata": {},
     "output_type": "display_data"
    },
    {
     "name": "stdout",
     "output_type": "stream",
     "text": [
      "With gamma = 0.5:\n",
      "\n",
      "| Property          | Value   |\n",
      "|-------------------|---------|\n",
      "| Number of nodes   | 2       |\n",
      "| Number of edges   | 3       |\n",
      "| Connected         | Yes     |\n",
      "| Diameter          | 1       |\n",
      "| Avg shortest path | 1.0     |\n",
      "\n",
      "Degree distribution:\n",
      "|   Degree |   Frequency |\n",
      "|----------|-------------|\n",
      "|        3 |           2 |\n"
     ]
    },
    {
     "data": {
      "application/vnd.jupyter.widget-view+json": {
       "model_id": "78263cbd1fe94348bb60419c37707803",
       "version_major": 2,
       "version_minor": 0
      },
      "text/plain": [
       "Widget(value='<iframe src=\"http://localhost:11568/index.html?ui=P_0x1e93a5b8ad0_4&reconnect=auto\" class=\"pyvis…"
      ]
     },
     "metadata": {},
     "output_type": "display_data"
    }
   ],
   "source": [
    "for gamma in [0.2, 0.5]:\n",
    "    print(f\"With gamma = {gamma}:\\n\")\n",
    "    \n",
    "    ske_ = NodalSkeleton(hopf_bloch_vector(gamma))\n",
    "    ske_.graph_summary(ske_.skeleton_graph())\n",
    "\n",
    "    plotter = ske_.plot_exceptional_surface(surf_opacity=.3, surf_color='lightgreen')\n",
    "    plotter = ske_.plot_skeleton_graph(plotter=plotter)\n",
    "    plotter.show()\n",
    "\n",
    "    if EXPORT_FIGS:\n",
    "        plotter.export_html(f'./assets/ES_SG_gamma={gamma}.html')    \n",
    "        plotter.save_graphic(f'./assets/ES_SG_gamma={gamma}.svg')\n",
    "        plotter.save_graphic(f'./assets/ES_SG_gamma={gamma}.pdf')"
   ]
  },
  {
   "cell_type": "markdown",
   "id": "e1a4a9bb",
   "metadata": {},
   "source": [
    "### Planar Diagram and Yamada Polynomial"
   ]
  },
  {
   "cell_type": "markdown",
   "id": "8d9247aa",
   "metadata": {},
   "source": [
    "If a skeleton graph is trivalent (all node degrees <= 3), the *Yamada polynomial* is an isotopic invariant of the spatial graph.\n",
    "\n",
    "If not trivalent, the Yamada polynomial is still well-defined, but it is not an isotopic invariant, but rather a *rigid isotopy invariant* --- it depends on how one projects the 3D skeleton graph onto a 2D plane.\n",
    "\n",
    "---\n",
    "For a trivalent skeleton graph, `NodalSkeleton.yamada_polynomial(variable)` by default will sample `num_rotations=10` different projections that quotient out the rotational symmetry that produces the same planar diagram, and start from the planar diagram with the *least* number of crossings.\n",
    "\n",
    "If it finds two Yamada polynomials agree, which usually happens right after computing from the best two projections, it will return the agreed Yamada polynomial.\n",
    "\n",
    "If after `num_rotations` computations, no two Yamada polynomials agree, it will return the projection data and the corresponding Yamada polynomials."
   ]
  },
  {
   "cell_type": "code",
   "execution_count": 10,
   "id": "207cb611",
   "metadata": {},
   "outputs": [
    {
     "name": "stdout",
     "output_type": "stream",
     "text": [
      "Is the skeleton graph trivalent? True\n"
     ]
    },
    {
     "name": "stderr",
     "output_type": "stream",
     "text": [
      "Computing Yamada polynomial:  20%|██        | 2/10 [00:00<00:00, 14.19it/s]\n"
     ]
    },
    {
     "data": {
      "text/latex": [
       "$\\displaystyle - A^{6} - 2 A^{5} - 3 A^{4} - 3 A^{3} - 3 A^{2} - 2 A - 1$"
      ],
      "text/plain": [
       "-A**6 - 2*A**5 - 3*A**4 - 3*A**3 - 3*A**2 - 2*A - 1"
      ]
     },
     "execution_count": 10,
     "metadata": {},
     "output_type": "execute_result"
    }
   ],
   "source": [
    "# define the variable of the Yamada polynomial\n",
    "A = sp.symbols('A')\n",
    "\n",
    "hopf_link = ske.skeleton_graph() # Ensure the skeleton graph is computed and cached\n",
    "print(\"Is the skeleton graph trivalent?\", ske.is_graph_trivalent)\n",
    "\n",
    "# Compute the Yamada polynomial for the Hopf Link\n",
    "Y = ske.yamada_polynomial(\n",
    "    variable=A, \n",
    "    # normalize=True, # Normalize the Yamada polynomial\n",
    "    # n_jobs=-1, # Use all available cores for one view\n",
    "\n",
    "    # num_rotations=10, # ONLY for trivalent graphs\n",
    "    \n",
    "    # rotation_angles=(0., 0., 0.), # ONLY for non-trivalent graphs\n",
    "    # rotation_order='ZYX' # ONLY for non-trivalent graphs\n",
    ")\n",
    "Y"
   ]
  },
  {
   "cell_type": "markdown",
   "id": "db461afc",
   "metadata": {},
   "source": [
    "There a few ways to compute the Yamada polynomial apart from the `NodalSkeleton.yamada_polynomial()` method:\n",
    "\n",
    "E.g., by a function call:"
   ]
  },
  {
   "cell_type": "code",
   "execution_count": 11,
   "id": "eb51b81a",
   "metadata": {},
   "outputs": [
    {
     "name": "stderr",
     "output_type": "stream",
     "text": [
      "Computing Yamada polynomial:  20%|██        | 2/10 [00:00<00:00, 20.99it/s]\n"
     ]
    },
    {
     "data": {
      "text/latex": [
       "$\\displaystyle - A^{6} - 2 A^{5} - 3 A^{4} - 3 A^{3} - 3 A^{2} - 2 A - 1$"
      ],
      "text/plain": [
       "-A**6 - 2*A**5 - 3*A**4 - 3*A**3 - 3*A**2 - 2*A - 1"
      ]
     },
     "execution_count": 11,
     "metadata": {},
     "output_type": "execute_result"
    }
   ],
   "source": [
    "kg.compute_yamada_safely(\n",
    "    skeleton_graph=hopf_link,\n",
    "    variable=A,\n",
    "    # num_rotations=10,\n",
    "    # normalize=True,\n",
    "    # n_jobs=-1\n",
    ")"
   ]
  },
  {
   "cell_type": "markdown",
   "id": "c76e0af5",
   "metadata": {},
   "source": [
    "Or from the planar diagram code:\n",
    "> [!Warning]\n",
    "> This is not guaranteed to be correct because a view is to be input manually"
   ]
  },
  {
   "cell_type": "code",
   "execution_count": 45,
   "id": "9ce34534",
   "metadata": {},
   "outputs": [
    {
     "name": "stdout",
     "output_type": "stream",
     "text": [
      "planar diagram code: V[0,2];V[3,5];X[4,1,3,2];X[4,0,5,1]\n"
     ]
    },
    {
     "data": {
      "text/latex": [
       "$\\displaystyle - A^{6} - 2 A^{5} - 3 A^{4} - 3 A^{3} - 3 A^{2} - 2 A - 1$"
      ],
      "text/plain": [
       "-A**6 - 2*A**5 - 3*A**4 - 3*A**3 - 3*A**2 - 2*A - 1"
      ]
     },
     "execution_count": 45,
     "metadata": {},
     "output_type": "execute_result"
    }
   ],
   "source": [
    "pd = kg.PDCode(skeleton_graph=hopf_link)\n",
    "\n",
    "pd_code = pd.compute(\n",
    "    # specify the projection angles and order if needed\n",
    "    rotation_angles=(137.5, 81.4, 0.),\n",
    "    # rotation_order='ZYX',\n",
    ")\n",
    "print(f\"planar diagram code: {pd_code}\")\n",
    "\n",
    "pd.compute_yamada(A, normalize=True)"
   ]
  },
  {
   "cell_type": "markdown",
   "id": "77af8fd7",
   "metadata": {},
   "source": [
    "Or from a thin wrapper function:\n",
    "> [!Warning]\n",
    "> This is not guaranteed to be correct because a view is to be input manually"
   ]
  },
  {
   "cell_type": "code",
   "execution_count": 46,
   "id": "ee42b08a",
   "metadata": {},
   "outputs": [
    {
     "data": {
      "text/latex": [
       "$\\displaystyle - A^{6} - 2 A^{5} - 3 A^{4} - 3 A^{3} - 3 A^{2} - 2 A - 1$"
      ],
      "text/plain": [
       "-A**6 - 2*A**5 - 3*A**4 - 3*A**3 - 3*A**2 - 2*A - 1"
      ]
     },
     "execution_count": 46,
     "metadata": {},
     "output_type": "execute_result"
    }
   ],
   "source": [
    "kg.compute_yamada_polynomial(hopf_link, A, (137.5, 81.4, 0.))"
   ]
  },
  {
   "cell_type": "markdown",
   "id": "5889f6f5",
   "metadata": {},
   "source": [
    "---\n",
    "For a non-trivalent skeleton graph, the `NodalSkeleton.yamada_polynomial(variable)` will only compute from one projection, specified by the \n",
    "`rotation_angles[=(0., 0., 0.)]` and `rotation_order[='ZYX']`\n",
    "parameters (see `NodalSkeleton.util.get_rotation_matrix` for the meaning of these parameters).\n",
    "\n",
    "One can call `knotted_graph.util.generate_isotopy_projections` to generate a list of projections sorted by the number of crossings in the planar diagram, and then call `NodalSkeleton.yamada_polynomial(variable, rotation_angles=best_proj['angles'])` to compute the Yamada polynomial from the best projection."
   ]
  },
  {
   "cell_type": "code",
   "execution_count": 57,
   "id": "ce595de4",
   "metadata": {},
   "outputs": [
    {
     "name": "stdout",
     "output_type": "stream",
     "text": [
      "Keys of a projection: dict_keys(['num_crossings', 'vertices', 'crossings', 'arcs', 'angles', 'pd_code'])\n",
      "Number of crossings: 2\n",
      "Angles: [0.0, 87.13401601740115, 0.0]\n",
      "pd_code: V[0,2];V[3,5];X[5,1,4,0];X[1,3,2,4]\n"
     ]
    },
    {
     "data": {
      "text/latex": [
       "$\\displaystyle A^{7} + A^{6} + A^{5} - A^{3} - 2 A^{2} - 2 A - 1$"
      ],
      "text/plain": [
       "A**7 + A**6 + A**5 - A**3 - 2*A**2 - 2*A - 1"
      ]
     },
     "execution_count": 57,
     "metadata": {},
     "output_type": "execute_result"
    }
   ],
   "source": [
    "projections = kg.generate_isotopy_projections(\n",
    "    skeleton_graph=hopf_link, \n",
    "    num_rotations=10\n",
    ")\n",
    "\n",
    "best_proj = projections[0]\n",
    "print(f\"Keys of a projection: {best_proj.keys()}\")\n",
    "print(f\"Number of crossings: {best_proj['num_crossings']}\")\n",
    "print(f\"Angles: {best_proj['angles']}\")\n",
    "print(f\"pd_code: {best_proj['pd_code']}\")\n",
    "\n",
    "kg.compute_yamada_polynomial(hopf_link, A, best_proj['angles'])"
   ]
  },
  {
   "cell_type": "code",
   "execution_count": null,
   "id": "51f0ca24",
   "metadata": {},
   "outputs": [],
   "source": []
  }
 ],
 "metadata": {
  "kernelspec": {
   "display_name": "knot",
   "language": "python",
   "name": "python3"
  },
  "language_info": {
   "codemirror_mode": {
    "name": "ipython",
    "version": 3
   },
   "file_extension": ".py",
   "mimetype": "text/x-python",
   "name": "python",
   "nbconvert_exporter": "python",
   "pygments_lexer": "ipython3",
   "version": "3.12.11"
  }
 },
 "nbformat": 4,
 "nbformat_minor": 5
}
